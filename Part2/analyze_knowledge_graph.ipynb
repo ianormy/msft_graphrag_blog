{
 "cells": [
  {
   "cell_type": "markdown",
   "id": "054e6713-7116-4bc7-9dc8-fb40c2ab066a",
   "metadata": {},
   "source": [
    "# Analyse Knowledge Graph\n",
    "Analyse the data in the Knowledge Graph using SPARQL. This is mostly a copy of Tomaz Bratanic's notebook, but with all the CYPHER queries changed to SPARQL. \n",
    "\n",
    "Tomaz Bratanic's notebook is on Github: [https://github.com/tomasonjo/blogs/blob/master/msft_graphrag/ms_graphrag_retriever.ipynb](https://github.com/tomasonjo/blogs/blob/master/msft_graphrag/ms_graphrag_retriever.ipynb)"
   ]
  },
  {
   "cell_type": "code",
   "execution_count": null,
   "id": "49e456fe-7513-425b-b9d3-14727f9db981",
   "metadata": {},
   "outputs": [],
   "source": [
    "import pandas as pd\n",
    "import os\n",
    "import urllib.parse\n",
    "import ast\n",
    "from io import StringIO\n",
    "from SPARQLWrapper import SPARQLWrapper, CSV, SELECT, POST, POSTDIRECTLY\n",
    "import os\n",
    "import seaborn as sns\n",
    "import matplotlib.pyplot as plt\n",
    "import numpy as np\n",
    "from typing import Dict, Any"
   ]
  },
  {
   "cell_type": "code",
   "execution_count": null,
   "id": "3eec8182-b1f2-43fb-b7b4-8a1b9bfb2d07",
   "metadata": {},
   "outputs": [],
   "source": [
    "# Adjust pandas display settings\n",
    "pd.set_option(\n",
    "    \"display.max_colwidth\", None\n",
    ")  # Set to None to display the full column width\n",
    "pd.set_option(\"display.max_columns\", None)"
   ]
  },
  {
   "cell_type": "code",
   "execution_count": null,
   "id": "6800ab70-1b77-4fa4-aebe-b8e4ae9db4d6",
   "metadata": {},
   "outputs": [],
   "source": [
    "# endpoint for GraphDB\n",
    "#endpoint = \"http://localhost:7200/repositories/msft-graphrag-1200\"\n",
    "endpoint = \"http://localhost:7200/repositories/msft-graphrag-300\""
   ]
  },
  {
   "cell_type": "code",
   "execution_count": null,
   "id": "f25c4cc5-7c93-44bb-979a-82f61ece5e2d",
   "metadata": {},
   "outputs": [],
   "source": [
    "def sparql_query(query: str) -> pd.DataFrame:\n",
    "    sparql_conn.setQuery(query)\n",
    "    sparql_conn.setReturnFormat(CSV)\n",
    "    results = sparql_conn.query().convert()\n",
    "    return pd.read_csv(StringIO(results.decode('utf-8')), sep=\",\")"
   ]
  },
  {
   "cell_type": "code",
   "execution_count": null,
   "id": "1ee0987a-0a69-4780-9b10-b8761838eec0",
   "metadata": {},
   "outputs": [],
   "source": [
    "sparql_conn = SPARQLWrapper(endpoint)"
   ]
  },
  {
   "cell_type": "markdown",
   "id": "9d76da23-f73c-428c-abca-a60f9961d790",
   "metadata": {},
   "source": [
    "What's the distribution of chunk sizes for this graph?"
   ]
  },
  {
   "cell_type": "code",
   "execution_count": null,
   "id": "54611e4a-6a55-4fab-b3d2-3758abe8c587",
   "metadata": {},
   "outputs": [],
   "source": [
    "query = \"\"\"\n",
    "PREFIX gr: <http://ormynet.com/ns/msft-graphrag#>\n",
    "\n",
    "SELECT (SAMPLE(?n_tokens) AS ?token_count) (COUNT(?n_tokens) as ?count)\n",
    "WHERE {\n",
    "    ?chunk_uri a gr:Chunk;\n",
    "    gr:n_tokens ?n_tokens .\n",
    "}\n",
    "GROUP BY ?n_tokens\n",
    "\"\"\"\n",
    "sparql_query(query)"
   ]
  },
  {
   "cell_type": "markdown",
   "id": "f2d75257-0269-4a63-b6c7-47b51f8ec2b8",
   "metadata": {},
   "source": [
    "Let's look at an exmaple `Entity` instance."
   ]
  },
  {
   "cell_type": "code",
   "execution_count": null,
   "id": "d262faca-5094-4fe7-bc8a-c0d7a82081e7",
   "metadata": {},
   "outputs": [],
   "source": [
    "query = \"\"\"\n",
    "PREFIX gr: <http://ormynet.com/ns/msft-graphrag#>\n",
    "\n",
    "SELECT ?name ?description\n",
    "WHERE {\n",
    "    ?entity_uri a gr:Entity;\n",
    "    gr:name ?name;\n",
    "    gr:description ?desc .\n",
    "    BIND(REPLACE(?desc, \"\\\\r\\\\n\", \" \", \"i\") AS ?description)\n",
    "}\n",
    "LIMIT 1\n",
    "\"\"\"\n",
    "sparql_query(query)"
   ]
  },
  {
   "cell_type": "markdown",
   "id": "1e3b216a-83ab-4cf1-be4d-8ccf6185035a",
   "metadata": {},
   "source": [
    "Let's look at an example relationship."
   ]
  },
  {
   "cell_type": "code",
   "execution_count": null,
   "id": "5725c015-e06f-4c20-a930-8863587a7c1b",
   "metadata": {},
   "outputs": [],
   "source": [
    "query = \"\"\"\n",
    "PREFIX gr: <http://ormynet.com/ns/msft-graphrag#>\n",
    "\n",
    "SELECT ?description\n",
    "WHERE {\n",
    "    ?rel_uri a gr:related_to;\n",
    "    gr:description ?desc .\n",
    "    BIND(REPLACE(?desc, \"\\\\r\\\\n\", \" \", \"i\") AS ?description)\n",
    "}\n",
    "LIMIT 5\n",
    "\"\"\"\n",
    "sparql_query(query)"
   ]
  },
  {
   "cell_type": "markdown",
   "id": "7e546c8e-751b-427a-8399-d84f15c47e7d",
   "metadata": {},
   "source": [
    "Let's look at an example `Community` instance."
   ]
  },
  {
   "cell_type": "code",
   "execution_count": null,
   "id": "2ebafce3-e32e-4613-93c8-2a6cb66cdaa4",
   "metadata": {},
   "outputs": [],
   "source": [
    "query = \"\"\"\n",
    "PREFIX gr: <http://ormynet.com/ns/msft-graphrag#>\n",
    "\n",
    "SELECT ?title ?summary ?full_content\n",
    "WHERE {\n",
    "    ?community_uri a gr:Community;\n",
    "    gr:title ?title;\n",
    "    gr:summary ?summ;\n",
    "    gr:full_content ?full_c .\n",
    "    BIND(REPLACE(?summ, \"\\\\r\\\\n\", \" \", \"i\") AS ?summary)\n",
    "    BIND(REPLACE(?full_c, \"\\\\r\\\\n\", \" \", \"i\") AS ?full_content)\n",
    "}\n",
    "LIMIT 1\n",
    "\"\"\"\n",
    "sparql_query(query)"
   ]
  },
  {
   "cell_type": "markdown",
   "id": "d636962c-12bb-4f3a-96ca-2875577d82c3",
   "metadata": {},
   "source": [
    "Let's inspect the distribution of the count of extracted entities from text chunks."
   ]
  },
  {
   "cell_type": "code",
   "execution_count": null,
   "id": "67cc5ce6-5cb6-416d-a21c-9807362da656",
   "metadata": {},
   "outputs": [],
   "source": [
    "query = \"\"\"\n",
    "PREFIX gr: <http://ormynet.com/ns/msft-graphrag#>\n",
    "select\n",
    "(COUNT(?n_entities) as ?entity_count)\n",
    "where {\n",
    "    ?chunk_uri a gr:Chunk;\n",
    "     gr:has_entity ?n_entities .\n",
    "}\n",
    "GROUP BY ?chunk_uri\n",
    "\"\"\"\n",
    "entity_df = sparql_query(query)\n",
    "# Plot distribution\n",
    "plt.figure(figsize=(10, 6))\n",
    "sns.histplot(entity_df[\"entity_count\"], kde=True, bins=15, color=\"skyblue\")\n",
    "plt.axvline(\n",
    "    entity_df[\"entity_count\"].mean(), color=\"red\", linestyle=\"dashed\", linewidth=1\n",
    ")\n",
    "plt.axvline(\n",
    "    entity_df[\"entity_count\"].median(), color=\"green\", linestyle=\"dashed\", linewidth=1\n",
    ")\n",
    "plt.xlabel(\"Entity Count\", fontsize=12)\n",
    "plt.ylabel(\"Frequency\", fontsize=12)\n",
    "plt.title(\"Distribution of Entity Count\", fontsize=15)\n",
    "plt.legend(\n",
    "    {\n",
    "        \"Mean\": entity_df[\"entity_count\"].mean(),\n",
    "        \"Median\": entity_df[\"entity_count\"].median(),\n",
    "    }\n",
    ")\n",
    "plt.show()"
   ]
  },
  {
   "cell_type": "markdown",
   "id": "3de1700f-bc99-4685-9d53-5eeb35b9d897",
   "metadata": {},
   "source": [
    "Let's evaluate the node degree distribution. A node degree is the number of relationships a node has."
   ]
  },
  {
   "cell_type": "code",
   "execution_count": null,
   "id": "87959482-c64b-41c1-a3a0-8861cd220896",
   "metadata": {},
   "outputs": [],
   "source": [
    "query = \"\"\"\n",
    "PREFIX gr: <http://ormynet.com/ns/msft-graphrag#>\n",
    "select\n",
    "?from_entity_uri (COUNT(?to_entity_uri) as ?node_degree)\n",
    "where {\n",
    "    ?rel_uri a gr:related_to .\n",
    "    ?from_entity_uri ?rel_uri ?to_entity_uri .\n",
    "}\n",
    "GROUP BY ?from_entity_uri\n",
    "\"\"\"\n",
    "degree_dist_df = sparql_query(query)\n",
    "# Calculate mean and median\n",
    "mean_degree = np.mean(degree_dist_df[\"node_degree\"])\n",
    "percentiles = np.percentile(degree_dist_df[\"node_degree\"], [25, 50, 75, 90])\n",
    "# Create a histogram with a logarithmic scale\n",
    "plt.figure(figsize=(12, 6))\n",
    "sns.histplot(degree_dist_df[\"node_degree\"], bins=50, kde=False, color=\"blue\")\n",
    "# Use a logarithmic scale for the x-axis\n",
    "plt.yscale(\"log\")\n",
    "# Adding labels and title\n",
    "plt.xlabel(\"Node Degree\")\n",
    "plt.ylabel(\"Count (log scale)\")\n",
    "plt.title(\"Node Degree Distribution\")\n",
    "# Add mean, median, and percentile lines\n",
    "plt.axvline(\n",
    "    mean_degree,\n",
    "    color=\"red\",\n",
    "    linestyle=\"dashed\",\n",
    "    linewidth=1,\n",
    "    label=f\"Mean: {mean_degree:.2f}\",\n",
    ")\n",
    "plt.axvline(\n",
    "    percentiles[0],\n",
    "    color=\"purple\",\n",
    "    linestyle=\"dashed\",\n",
    "    linewidth=1,\n",
    "    label=f\"25th Percentile: {percentiles[0]:.2f}\",\n",
    ")\n",
    "plt.axvline(\n",
    "    percentiles[1],\n",
    "    color=\"orange\",\n",
    "    linestyle=\"dashed\",\n",
    "    linewidth=1,\n",
    "    label=f\"50th Percentile: {percentiles[1]:.2f}\",\n",
    ")\n",
    "plt.axvline(\n",
    "    percentiles[2],\n",
    "    color=\"yellow\",\n",
    "    linestyle=\"dashed\",\n",
    "    linewidth=1,\n",
    "    label=f\"75th Percentile: {percentiles[2]:.2f}\",\n",
    ")\n",
    "plt.axvline(\n",
    "    percentiles[3],\n",
    "    color=\"brown\",\n",
    "    linestyle=\"dashed\",\n",
    "    linewidth=1,\n",
    "    label=f\"90th Percentile: {percentiles[3]:.2f}\",\n",
    ")\n",
    "# Add legend\n",
    "plt.legend()\n",
    "# Show the plot\n",
    "plt.show()"
   ]
  },
  {
   "cell_type": "markdown",
   "id": "94d6082c-08c2-4905-acc2-e036e431ecd4",
   "metadata": {},
   "source": [
    "Most real-world networks follow a power-law node degree distribution, with most nodes having relatively small degrees and some important nodes having a lot. While our graph is small, the node degree follows the power law. However, there's an outlier over on the right-hand side. Let's see which one it is:"
   ]
  },
  {
   "cell_type": "code",
   "execution_count": null,
   "id": "ebcb2b6e-c6ce-45c9-84c7-95b01ccee1be",
   "metadata": {},
   "outputs": [],
   "source": [
    "query = \"\"\"\n",
    "PREFIX gr: <http://ormynet.com/ns/msft-graphrag#>\n",
    "select\n",
    "?name (COUNT(?to_entity_uri) as ?degree)\n",
    "where {\n",
    "    ?rel_uri a gr:related_to .\n",
    "    ?from_entity_uri ?rel_uri ?to_entity_uri;\n",
    "        gr:name ?name .\n",
    "}\n",
    "GROUP BY ?name\n",
    "ORDER BY DESC(?degree)\n",
    "LIMIT 5\n",
    "\"\"\"\n",
    "sparql_query(query)"
   ]
  },
  {
   "cell_type": "markdown",
   "id": "d8f3cd52-9408-4ed5-b3d7-ba1142fafca3",
   "metadata": {},
   "source": [
    "It's no surprise that `SCROOGE` would have the highest degree! He's the main character of the book."
   ]
  },
  {
   "cell_type": "markdown",
   "id": "c32c76b8-4b01-4c46-a77b-09053b83ad0e",
   "metadata": {},
   "source": [
    "Finally, let's inspect the distribution of community size per hierarchical level:"
   ]
  },
  {
   "cell_type": "code",
   "execution_count": null,
   "id": "77caa1b7-5e5c-457a-b8ca-111fc0987b9d",
   "metadata": {},
   "outputs": [],
   "source": [
    "query = \"\"\"\n",
    "PREFIX gr: <http://ormynet.com/ns/msft-graphrag#>\n",
    "select\n",
    "?level\n",
    "(COUNT(?community_uri) as ?members)\n",
    "where {\n",
    "    ?entity_uri gr:in_community ?community_uri .\n",
    "    ?community_uri gr:level ?level .\n",
    "}\n",
    "GROUP BY ?level ?community_uri\n",
    "\"\"\"\n",
    "community_data = sparql_query(query)\n",
    "stats = (\n",
    "    community_data.groupby(\"level\")\n",
    "    .agg(\n",
    "        min_members=(\"members\", \"min\"),\n",
    "        max_members=(\"members\", \"max\"),\n",
    "        median_members=(\"members\", \"median\"),\n",
    "        avg_members=(\"members\", \"mean\"),\n",
    "        num_communities=(\"members\", \"count\"),\n",
    "        total_members=(\"members\", \"sum\"),\n",
    "    )\n",
    "    .reset_index()\n",
    ")\n",
    "\n",
    "# Create box plot\n",
    "plt.figure(figsize=(10, 6))\n",
    "sns.boxplot(x=\"level\", y=\"members\", data=community_data, palette=\"viridis\", hue=\"level\", legend=False)\n",
    "plt.xlabel(\"Level\")\n",
    "plt.ylabel(\"Members\")\n",
    "\n",
    "# Add statistical annotations\n",
    "for i in range(stats.shape[0]):\n",
    "    level = stats[\"level\"][i]\n",
    "    max_val = stats[\"max_members\"][i]\n",
    "    text = (\n",
    "        f\"num: {stats['num_communities'][i]}\\n\"\n",
    "        f\"all_members: {stats['total_members'][i]}\\n\"\n",
    "        f\"min: {stats['min_members'][i]}\\n\"\n",
    "        f\"max: {stats['max_members'][i]}\\n\"\n",
    "        f\"med: {stats['median_members'][i]}\\n\"\n",
    "        f\"avg: {stats['avg_members'][i]:.2f}\"\n",
    "    )\n",
    "    plt.text(level, 85, text, horizontalalignment=\"center\", fontsize=9)\n",
    "\n",
    "plt.show()"
   ]
  },
  {
   "cell_type": "code",
   "execution_count": null,
   "id": "a6d9ff23-3e3f-4d81-a7b4-8b3eddb1a1e6",
   "metadata": {},
   "outputs": [],
   "source": []
  }
 ],
 "metadata": {
  "kernelspec": {
   "display_name": "Python 3 (ipykernel)",
   "language": "python",
   "name": "python3"
  },
  "language_info": {
   "codemirror_mode": {
    "name": "ipython",
    "version": 3
   },
   "file_extension": ".py",
   "mimetype": "text/x-python",
   "name": "python",
   "nbconvert_exporter": "python",
   "pygments_lexer": "ipython3",
   "version": "3.10.14"
  }
 },
 "nbformat": 4,
 "nbformat_minor": 5
}
